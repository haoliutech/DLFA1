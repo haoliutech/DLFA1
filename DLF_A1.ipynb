{
 "cells": [
  {
   "cell_type": "markdown",
   "id": "4349a433",
   "metadata": {},
   "source": [
    "# Deep Learning Fundamentals Assignment 1"
   ]
  },
  {
   "cell_type": "markdown",
   "id": "237137f0",
   "metadata": {},
   "source": [
    "Student Name: Hao Liu, Student ID: a1787848"
   ]
  },
  {
   "cell_type": "markdown",
   "id": "ae48fe0f",
   "metadata": {},
   "source": [
    "## Data Preprocessing"
   ]
  },
  {
   "cell_type": "markdown",
   "id": "3d5c214d",
   "metadata": {},
   "source": [
    "Import libraries"
   ]
  },
  {
   "cell_type": "code",
   "execution_count": 1,
   "id": "9da15dab",
   "metadata": {},
   "outputs": [],
   "source": [
    "import numpy as np\n",
    "from sklearn.model_selection import train_test_split\n",
    "import sklearn\n",
    "import matplotlib.pyplot as plt"
   ]
  },
  {
   "cell_type": "code",
   "execution_count": 2,
   "id": "dadb30dd",
   "metadata": {},
   "outputs": [],
   "source": [
    "import pandas as pd"
   ]
  },
  {
   "cell_type": "markdown",
   "id": "43951ce5",
   "metadata": {},
   "source": [
    "Read data set from url into dataframe"
   ]
  },
  {
   "cell_type": "code",
   "execution_count": 3,
   "id": "4965ef4f",
   "metadata": {},
   "outputs": [],
   "source": [
    "diabetes_df = pd.read_csv('https://www.csie.ntu.edu.tw/~cjlin/libsvmtools/datasets/binary/diabetes', sep=\" \", header=None)"
   ]
  },
  {
   "cell_type": "code",
   "execution_count": 4,
   "id": "08f3505c",
   "metadata": {},
   "outputs": [
    {
     "data": {
      "text/html": [
       "<div>\n",
       "<style scoped>\n",
       "    .dataframe tbody tr th:only-of-type {\n",
       "        vertical-align: middle;\n",
       "    }\n",
       "\n",
       "    .dataframe tbody tr th {\n",
       "        vertical-align: top;\n",
       "    }\n",
       "\n",
       "    .dataframe thead th {\n",
       "        text-align: right;\n",
       "    }\n",
       "</style>\n",
       "<table border=\"1\" class=\"dataframe\">\n",
       "  <thead>\n",
       "    <tr style=\"text-align: right;\">\n",
       "      <th></th>\n",
       "      <th>0</th>\n",
       "      <th>1</th>\n",
       "      <th>2</th>\n",
       "      <th>3</th>\n",
       "      <th>4</th>\n",
       "      <th>5</th>\n",
       "      <th>6</th>\n",
       "      <th>7</th>\n",
       "      <th>8</th>\n",
       "      <th>9</th>\n",
       "    </tr>\n",
       "  </thead>\n",
       "  <tbody>\n",
       "    <tr>\n",
       "      <th>0</th>\n",
       "      <td>-1</td>\n",
       "      <td>NaN</td>\n",
       "      <td>1:6.000000</td>\n",
       "      <td>2:148.000000</td>\n",
       "      <td>3:72.000000</td>\n",
       "      <td>4:35.000000</td>\n",
       "      <td>5:0.000000</td>\n",
       "      <td>6:33.599998</td>\n",
       "      <td>7:0.627000</td>\n",
       "      <td>8:50.000000</td>\n",
       "    </tr>\n",
       "    <tr>\n",
       "      <th>1</th>\n",
       "      <td>1</td>\n",
       "      <td>NaN</td>\n",
       "      <td>1:1.000000</td>\n",
       "      <td>2:85.000000</td>\n",
       "      <td>3:66.000000</td>\n",
       "      <td>4:29.000000</td>\n",
       "      <td>5:0.000000</td>\n",
       "      <td>6:26.600000</td>\n",
       "      <td>7:0.351000</td>\n",
       "      <td>8:31.000000</td>\n",
       "    </tr>\n",
       "    <tr>\n",
       "      <th>2</th>\n",
       "      <td>-1</td>\n",
       "      <td>NaN</td>\n",
       "      <td>1:8.000000</td>\n",
       "      <td>2:183.000000</td>\n",
       "      <td>3:64.000000</td>\n",
       "      <td>4:0.000000</td>\n",
       "      <td>5:0.000000</td>\n",
       "      <td>6:23.299999</td>\n",
       "      <td>7:0.672000</td>\n",
       "      <td>8:32.000000</td>\n",
       "    </tr>\n",
       "    <tr>\n",
       "      <th>3</th>\n",
       "      <td>1</td>\n",
       "      <td>NaN</td>\n",
       "      <td>1:1.000000</td>\n",
       "      <td>2:89.000000</td>\n",
       "      <td>3:66.000000</td>\n",
       "      <td>4:23.000000</td>\n",
       "      <td>5:94.000000</td>\n",
       "      <td>6:28.100000</td>\n",
       "      <td>7:0.167000</td>\n",
       "      <td>8:21.000000</td>\n",
       "    </tr>\n",
       "    <tr>\n",
       "      <th>4</th>\n",
       "      <td>-1</td>\n",
       "      <td>NaN</td>\n",
       "      <td>1:0.000000</td>\n",
       "      <td>2:137.000000</td>\n",
       "      <td>3:40.000000</td>\n",
       "      <td>4:35.000000</td>\n",
       "      <td>5:168.000000</td>\n",
       "      <td>6:43.099998</td>\n",
       "      <td>7:2.288000</td>\n",
       "      <td>8:33.000000</td>\n",
       "    </tr>\n",
       "    <tr>\n",
       "      <th>...</th>\n",
       "      <td>...</td>\n",
       "      <td>...</td>\n",
       "      <td>...</td>\n",
       "      <td>...</td>\n",
       "      <td>...</td>\n",
       "      <td>...</td>\n",
       "      <td>...</td>\n",
       "      <td>...</td>\n",
       "      <td>...</td>\n",
       "      <td>...</td>\n",
       "    </tr>\n",
       "    <tr>\n",
       "      <th>763</th>\n",
       "      <td>1</td>\n",
       "      <td>NaN</td>\n",
       "      <td>1:10.000000</td>\n",
       "      <td>2:101.000000</td>\n",
       "      <td>3:76.000000</td>\n",
       "      <td>4:48.000000</td>\n",
       "      <td>5:180.000000</td>\n",
       "      <td>6:32.900002</td>\n",
       "      <td>7:0.171000</td>\n",
       "      <td>8:63.000000</td>\n",
       "    </tr>\n",
       "    <tr>\n",
       "      <th>764</th>\n",
       "      <td>1</td>\n",
       "      <td>NaN</td>\n",
       "      <td>1:2.000000</td>\n",
       "      <td>2:122.000000</td>\n",
       "      <td>3:70.000000</td>\n",
       "      <td>4:27.000000</td>\n",
       "      <td>5:0.000000</td>\n",
       "      <td>6:36.799999</td>\n",
       "      <td>7:0.340000</td>\n",
       "      <td>8:27.000000</td>\n",
       "    </tr>\n",
       "    <tr>\n",
       "      <th>765</th>\n",
       "      <td>1</td>\n",
       "      <td>NaN</td>\n",
       "      <td>1:5.000000</td>\n",
       "      <td>2:121.000000</td>\n",
       "      <td>3:72.000000</td>\n",
       "      <td>4:23.000000</td>\n",
       "      <td>5:112.000000</td>\n",
       "      <td>6:26.200001</td>\n",
       "      <td>7:0.245000</td>\n",
       "      <td>8:30.000000</td>\n",
       "    </tr>\n",
       "    <tr>\n",
       "      <th>766</th>\n",
       "      <td>-1</td>\n",
       "      <td>NaN</td>\n",
       "      <td>1:1.000000</td>\n",
       "      <td>2:126.000000</td>\n",
       "      <td>3:60.000000</td>\n",
       "      <td>4:0.000000</td>\n",
       "      <td>5:0.000000</td>\n",
       "      <td>6:30.100000</td>\n",
       "      <td>7:0.349000</td>\n",
       "      <td>8:47.000000</td>\n",
       "    </tr>\n",
       "    <tr>\n",
       "      <th>767</th>\n",
       "      <td>1</td>\n",
       "      <td>NaN</td>\n",
       "      <td>1:1.000000</td>\n",
       "      <td>2:93.000000</td>\n",
       "      <td>3:70.000000</td>\n",
       "      <td>4:31.000000</td>\n",
       "      <td>5:0.000000</td>\n",
       "      <td>6:30.400000</td>\n",
       "      <td>7:0.315000</td>\n",
       "      <td>8:23.000000</td>\n",
       "    </tr>\n",
       "  </tbody>\n",
       "</table>\n",
       "<p>768 rows × 10 columns</p>\n",
       "</div>"
      ],
      "text/plain": [
       "     0   1            2             3            4            5             6  \\\n",
       "0   -1 NaN   1:6.000000  2:148.000000  3:72.000000  4:35.000000    5:0.000000   \n",
       "1    1 NaN   1:1.000000   2:85.000000  3:66.000000  4:29.000000    5:0.000000   \n",
       "2   -1 NaN   1:8.000000  2:183.000000  3:64.000000   4:0.000000    5:0.000000   \n",
       "3    1 NaN   1:1.000000   2:89.000000  3:66.000000  4:23.000000   5:94.000000   \n",
       "4   -1 NaN   1:0.000000  2:137.000000  3:40.000000  4:35.000000  5:168.000000   \n",
       "..  ..  ..          ...           ...          ...          ...           ...   \n",
       "763  1 NaN  1:10.000000  2:101.000000  3:76.000000  4:48.000000  5:180.000000   \n",
       "764  1 NaN   1:2.000000  2:122.000000  3:70.000000  4:27.000000    5:0.000000   \n",
       "765  1 NaN   1:5.000000  2:121.000000  3:72.000000  4:23.000000  5:112.000000   \n",
       "766 -1 NaN   1:1.000000  2:126.000000  3:60.000000   4:0.000000    5:0.000000   \n",
       "767  1 NaN   1:1.000000   2:93.000000  3:70.000000  4:31.000000    5:0.000000   \n",
       "\n",
       "               7           8            9  \n",
       "0    6:33.599998  7:0.627000  8:50.000000  \n",
       "1    6:26.600000  7:0.351000  8:31.000000  \n",
       "2    6:23.299999  7:0.672000  8:32.000000  \n",
       "3    6:28.100000  7:0.167000  8:21.000000  \n",
       "4    6:43.099998  7:2.288000  8:33.000000  \n",
       "..           ...         ...          ...  \n",
       "763  6:32.900002  7:0.171000  8:63.000000  \n",
       "764  6:36.799999  7:0.340000  8:27.000000  \n",
       "765  6:26.200001  7:0.245000  8:30.000000  \n",
       "766  6:30.100000  7:0.349000  8:47.000000  \n",
       "767  6:30.400000  7:0.315000  8:23.000000  \n",
       "\n",
       "[768 rows x 10 columns]"
      ]
     },
     "execution_count": 4,
     "metadata": {},
     "output_type": "execute_result"
    }
   ],
   "source": [
    "diabetes_df"
   ]
  },
  {
   "cell_type": "markdown",
   "id": "16e93aa6",
   "metadata": {},
   "source": [
    "The dataframe is messy, we have to edit the dataframe"
   ]
  },
  {
   "cell_type": "code",
   "execution_count": 5,
   "id": "c64b4e73",
   "metadata": {},
   "outputs": [
    {
     "data": {
      "text/html": [
       "<div>\n",
       "<style scoped>\n",
       "    .dataframe tbody tr th:only-of-type {\n",
       "        vertical-align: middle;\n",
       "    }\n",
       "\n",
       "    .dataframe tbody tr th {\n",
       "        vertical-align: top;\n",
       "    }\n",
       "\n",
       "    .dataframe thead th {\n",
       "        text-align: right;\n",
       "    }\n",
       "</style>\n",
       "<table border=\"1\" class=\"dataframe\">\n",
       "  <thead>\n",
       "    <tr style=\"text-align: right;\">\n",
       "      <th></th>\n",
       "      <th>0</th>\n",
       "      <th>2</th>\n",
       "      <th>3</th>\n",
       "      <th>4</th>\n",
       "      <th>5</th>\n",
       "      <th>6</th>\n",
       "      <th>7</th>\n",
       "      <th>8</th>\n",
       "      <th>9</th>\n",
       "    </tr>\n",
       "  </thead>\n",
       "  <tbody>\n",
       "    <tr>\n",
       "      <th>0</th>\n",
       "      <td>-1</td>\n",
       "      <td>6.0</td>\n",
       "      <td>148.0</td>\n",
       "      <td>72.0</td>\n",
       "      <td>35.0</td>\n",
       "      <td>0.0</td>\n",
       "      <td>33.599998</td>\n",
       "      <td>0.627</td>\n",
       "      <td>50.0</td>\n",
       "    </tr>\n",
       "    <tr>\n",
       "      <th>1</th>\n",
       "      <td>1</td>\n",
       "      <td>1.0</td>\n",
       "      <td>85.0</td>\n",
       "      <td>66.0</td>\n",
       "      <td>29.0</td>\n",
       "      <td>0.0</td>\n",
       "      <td>26.600000</td>\n",
       "      <td>0.351</td>\n",
       "      <td>31.0</td>\n",
       "    </tr>\n",
       "    <tr>\n",
       "      <th>2</th>\n",
       "      <td>-1</td>\n",
       "      <td>8.0</td>\n",
       "      <td>183.0</td>\n",
       "      <td>64.0</td>\n",
       "      <td>0.0</td>\n",
       "      <td>0.0</td>\n",
       "      <td>23.299999</td>\n",
       "      <td>0.672</td>\n",
       "      <td>32.0</td>\n",
       "    </tr>\n",
       "    <tr>\n",
       "      <th>3</th>\n",
       "      <td>1</td>\n",
       "      <td>1.0</td>\n",
       "      <td>89.0</td>\n",
       "      <td>66.0</td>\n",
       "      <td>23.0</td>\n",
       "      <td>94.0</td>\n",
       "      <td>28.100000</td>\n",
       "      <td>0.167</td>\n",
       "      <td>21.0</td>\n",
       "    </tr>\n",
       "    <tr>\n",
       "      <th>4</th>\n",
       "      <td>-1</td>\n",
       "      <td>0.0</td>\n",
       "      <td>137.0</td>\n",
       "      <td>40.0</td>\n",
       "      <td>35.0</td>\n",
       "      <td>168.0</td>\n",
       "      <td>43.099998</td>\n",
       "      <td>2.288</td>\n",
       "      <td>33.0</td>\n",
       "    </tr>\n",
       "  </tbody>\n",
       "</table>\n",
       "</div>"
      ],
      "text/plain": [
       "   0    2      3     4     5      6          7      8     9\n",
       "0 -1  6.0  148.0  72.0  35.0    0.0  33.599998  0.627  50.0\n",
       "1  1  1.0   85.0  66.0  29.0    0.0  26.600000  0.351  31.0\n",
       "2 -1  8.0  183.0  64.0   0.0    0.0  23.299999  0.672  32.0\n",
       "3  1  1.0   89.0  66.0  23.0   94.0  28.100000  0.167  21.0\n",
       "4 -1  0.0  137.0  40.0  35.0  168.0  43.099998  2.288  33.0"
      ]
     },
     "execution_count": 5,
     "metadata": {},
     "output_type": "execute_result"
    }
   ],
   "source": [
    "diabetes_df = diabetes_df.replace(r'^.+:', '', regex=True)\n",
    "diabetes_df = diabetes_df.drop(diabetes_df.columns[1], axis=1)\n",
    "diabetes_df = diabetes_df.apply(pd.to_numeric)\n",
    "diabetes_df.head()"
   ]
  },
  {
   "cell_type": "code",
   "execution_count": 6,
   "id": "5c41b1fd",
   "metadata": {},
   "outputs": [],
   "source": [
    "diabetes_df.columns =[\"Target\",\"Pregnancies\",\"Glucose\",\"BloodPressure\",\"SkinThickness\",\"Insulin\",\"BMI\",\"DiabetesPedigree\",\"Age\"]"
   ]
  },
  {
   "cell_type": "code",
   "execution_count": 7,
   "id": "a8b8587b",
   "metadata": {},
   "outputs": [
    {
     "data": {
      "text/plain": [
       "768"
      ]
     },
     "execution_count": 7,
     "metadata": {},
     "output_type": "execute_result"
    }
   ],
   "source": [
    "diabetes_df.shape[0]"
   ]
  },
  {
   "cell_type": "markdown",
   "id": "21980776",
   "metadata": {},
   "source": [
    "There are total 768 instances"
   ]
  },
  {
   "cell_type": "code",
   "execution_count": 8,
   "id": "204427a1",
   "metadata": {},
   "outputs": [
    {
     "data": {
      "text/html": [
       "<div>\n",
       "<style scoped>\n",
       "    .dataframe tbody tr th:only-of-type {\n",
       "        vertical-align: middle;\n",
       "    }\n",
       "\n",
       "    .dataframe tbody tr th {\n",
       "        vertical-align: top;\n",
       "    }\n",
       "\n",
       "    .dataframe thead th {\n",
       "        text-align: right;\n",
       "    }\n",
       "</style>\n",
       "<table border=\"1\" class=\"dataframe\">\n",
       "  <thead>\n",
       "    <tr style=\"text-align: right;\">\n",
       "      <th></th>\n",
       "      <th>Target</th>\n",
       "      <th>Pregnancies</th>\n",
       "      <th>Glucose</th>\n",
       "      <th>BloodPressure</th>\n",
       "      <th>SkinThickness</th>\n",
       "      <th>Insulin</th>\n",
       "      <th>BMI</th>\n",
       "      <th>DiabetesPedigree</th>\n",
       "      <th>Age</th>\n",
       "    </tr>\n",
       "  </thead>\n",
       "  <tbody>\n",
       "    <tr>\n",
       "      <th>0</th>\n",
       "      <td>-1</td>\n",
       "      <td>6.0</td>\n",
       "      <td>148.0</td>\n",
       "      <td>72.0</td>\n",
       "      <td>35.0</td>\n",
       "      <td>0.0</td>\n",
       "      <td>33.599998</td>\n",
       "      <td>0.627</td>\n",
       "      <td>50.0</td>\n",
       "    </tr>\n",
       "    <tr>\n",
       "      <th>1</th>\n",
       "      <td>1</td>\n",
       "      <td>1.0</td>\n",
       "      <td>85.0</td>\n",
       "      <td>66.0</td>\n",
       "      <td>29.0</td>\n",
       "      <td>0.0</td>\n",
       "      <td>26.600000</td>\n",
       "      <td>0.351</td>\n",
       "      <td>31.0</td>\n",
       "    </tr>\n",
       "    <tr>\n",
       "      <th>2</th>\n",
       "      <td>-1</td>\n",
       "      <td>8.0</td>\n",
       "      <td>183.0</td>\n",
       "      <td>64.0</td>\n",
       "      <td>0.0</td>\n",
       "      <td>0.0</td>\n",
       "      <td>23.299999</td>\n",
       "      <td>0.672</td>\n",
       "      <td>32.0</td>\n",
       "    </tr>\n",
       "    <tr>\n",
       "      <th>3</th>\n",
       "      <td>1</td>\n",
       "      <td>1.0</td>\n",
       "      <td>89.0</td>\n",
       "      <td>66.0</td>\n",
       "      <td>23.0</td>\n",
       "      <td>94.0</td>\n",
       "      <td>28.100000</td>\n",
       "      <td>0.167</td>\n",
       "      <td>21.0</td>\n",
       "    </tr>\n",
       "    <tr>\n",
       "      <th>4</th>\n",
       "      <td>-1</td>\n",
       "      <td>0.0</td>\n",
       "      <td>137.0</td>\n",
       "      <td>40.0</td>\n",
       "      <td>35.0</td>\n",
       "      <td>168.0</td>\n",
       "      <td>43.099998</td>\n",
       "      <td>2.288</td>\n",
       "      <td>33.0</td>\n",
       "    </tr>\n",
       "  </tbody>\n",
       "</table>\n",
       "</div>"
      ],
      "text/plain": [
       "   Target  Pregnancies  Glucose  BloodPressure  SkinThickness  Insulin  \\\n",
       "0      -1          6.0    148.0           72.0           35.0      0.0   \n",
       "1       1          1.0     85.0           66.0           29.0      0.0   \n",
       "2      -1          8.0    183.0           64.0            0.0      0.0   \n",
       "3       1          1.0     89.0           66.0           23.0     94.0   \n",
       "4      -1          0.0    137.0           40.0           35.0    168.0   \n",
       "\n",
       "         BMI  DiabetesPedigree   Age  \n",
       "0  33.599998             0.627  50.0  \n",
       "1  26.600000             0.351  31.0  \n",
       "2  23.299999             0.672  32.0  \n",
       "3  28.100000             0.167  21.0  \n",
       "4  43.099998             2.288  33.0  "
      ]
     },
     "execution_count": 8,
     "metadata": {},
     "output_type": "execute_result"
    }
   ],
   "source": [
    "diabetes_df.head()"
   ]
  },
  {
   "cell_type": "markdown",
   "id": "c02e800c",
   "metadata": {},
   "source": [
    "Convert data to Numpy array"
   ]
  },
  {
   "cell_type": "code",
   "execution_count": 9,
   "id": "628f9216",
   "metadata": {},
   "outputs": [],
   "source": [
    "# Convert data to Numpy array\n",
    "diabetes_np = diabetes_df.to_numpy()"
   ]
  },
  {
   "cell_type": "code",
   "execution_count": 10,
   "id": "5035b7ea",
   "metadata": {},
   "outputs": [
    {
     "data": {
      "text/plain": [
       "(768, 9)"
      ]
     },
     "execution_count": 10,
     "metadata": {},
     "output_type": "execute_result"
    }
   ],
   "source": [
    "diabetes_np.shape"
   ]
  },
  {
   "cell_type": "markdown",
   "id": "c3abe9ee",
   "metadata": {},
   "source": [
    "Split X and y"
   ]
  },
  {
   "cell_type": "code",
   "execution_count": 11,
   "id": "75486afc",
   "metadata": {},
   "outputs": [],
   "source": [
    "# Split X and y\n",
    "y, X = np.split(diabetes_np,[1],axis=1)"
   ]
  },
  {
   "cell_type": "markdown",
   "id": "ec26eaba",
   "metadata": {},
   "source": [
    "Scale target to be 0 or 1"
   ]
  },
  {
   "cell_type": "code",
   "execution_count": 12,
   "id": "b7a2930e",
   "metadata": {},
   "outputs": [],
   "source": [
    "# Scale target to be 0 or 1\n",
    "y = (y + 1)/2\n",
    "y = y.astype(int)"
   ]
  },
  {
   "cell_type": "markdown",
   "id": "d79e1c1c",
   "metadata": {},
   "source": [
    "Split the data into training set and testing set"
   ]
  },
  {
   "cell_type": "code",
   "execution_count": 13,
   "id": "0d02b0fa",
   "metadata": {},
   "outputs": [],
   "source": [
    "#Split the data into training set and testing set\n",
    "X_train, X_test, y_train, y_test = train_test_split(X, y, test_size=0.3, random_state=42)\n",
    "\n"
   ]
  },
  {
   "cell_type": "markdown",
   "id": "62c66bc4",
   "metadata": {},
   "source": [
    "Standardize the data"
   ]
  },
  {
   "cell_type": "code",
   "execution_count": 14,
   "id": "4dd28e6d",
   "metadata": {},
   "outputs": [],
   "source": [
    "from sklearn.preprocessing import StandardScaler\n",
    "scaler = StandardScaler()\n",
    "scaler.fit(X_train)\n",
    "X_train = scaler.transform(X_train)\n",
    "X_test = scaler.transform(X_test)\n",
    "X_train, X_test, y_train, y_test = X_train.T, X_test.T, y_train.T, y_test.T"
   ]
  },
  {
   "cell_type": "code",
   "execution_count": 15,
   "id": "e2897d8e",
   "metadata": {},
   "outputs": [
    {
     "name": "stdout",
     "output_type": "stream",
     "text": [
      "X_train shape: (8, 537)\n",
      "y_train shape: (1, 537)\n",
      "X_test shape: (8, 231)\n",
      "y_test shape: (1, 231)\n"
     ]
    }
   ],
   "source": [
    "print (\"X_train shape: \" + str(X_train.shape))\n",
    "print (\"y_train shape: \" + str(y_train.shape))\n",
    "print (\"X_test shape: \" + str(X_test.shape))\n",
    "print (\"y_test shape: \" + str(y_test.shape))"
   ]
  },
  {
   "cell_type": "markdown",
   "id": "83cbbcce",
   "metadata": {},
   "source": [
    "Now we have complete data preprocessing."
   ]
  },
  {
   "cell_type": "markdown",
   "id": "17606bae",
   "metadata": {},
   "source": [
    "## Perceptron Algorithm"
   ]
  },
  {
   "cell_type": "markdown",
   "id": "d1214e0f",
   "metadata": {},
   "source": [
    "Sigmoid function $\\displaystyle S(z) = \\frac{1}{1+e^{-z}}$"
   ]
  },
  {
   "cell_type": "code",
   "execution_count": 16,
   "id": "f19cd992",
   "metadata": {},
   "outputs": [],
   "source": [
    "def sigmoid(z):\n",
    "    \n",
    "    \n",
    "    sigmoid = 1/(1+np.exp(-z))\n",
    "    \n",
    "    \n",
    "    return sigmoid"
   ]
  },
  {
   "cell_type": "markdown",
   "id": "8c413a83",
   "metadata": {},
   "source": [
    "Initialize $\\boldsymbol{w}$ and b"
   ]
  },
  {
   "cell_type": "code",
   "execution_count": 17,
   "id": "0f338d05",
   "metadata": {},
   "outputs": [],
   "source": [
    "#initialize w1 = 0\n",
    "def initialize_w_b(dim):\n",
    "    \n",
    "\n",
    "    w = np.zeros((dim,1))\n",
    "    b = 0.0\n",
    "\n",
    "    return w, b"
   ]
  },
  {
   "cell_type": "markdown",
   "id": "27b2345f",
   "metadata": {},
   "source": [
    "Calculate cost and gradients: loss function\n",
    "$\\boldsymbol{L}(\\boldsymbol{A}, \\boldsymbol{Y}) =  - \\boldsymbol{Y}  \\log(\\boldsymbol{A}) - (1-\\boldsymbol{Y} )  \\log(1-\\boldsymbol{Y})$, cost function $C = \\frac{1}{m} \\sum_{i=1}^m \\boldsymbol{L}(\\boldsymbol{A}, \\boldsymbol{Y})$, $ \\frac{\\partial {C}}{\\partial \\boldsymbol{w}} = \\frac{1}{m}\\boldsymbol{X}(\\boldsymbol{A}-\\boldsymbol{Y})^T$ and $ \\frac{\\partial {C}}{\\partial b} = \\frac{1}{m} \\sum_{i=1}^m (\\boldsymbol{A}-\\boldsymbol{Y})$"
   ]
  },
  {
   "cell_type": "code",
   "execution_count": 18,
   "id": "957625ec",
   "metadata": {},
   "outputs": [],
   "source": [
    "#calculate cost and gradient\n",
    "def propagate(w, b, X, Y):\n",
    "    \n",
    "    #m = how many instances\n",
    "    m = X.shape[1]\n",
    "    \n",
    "    \n",
    "    A = sigmoid(np.dot(w.T,X)+b)\n",
    "    cost = -1/m*np.sum(Y*np.log(A)+(1-Y)*(np.log(1-A)))\n",
    " \n",
    "    dw = 1/m*(np.dot(X,(A-Y).T))\n",
    "    db = 1/m*(np.sum(A-Y))\n",
    "    \n",
    "    cost = np.squeeze(np.array(cost))\n",
    "\n",
    "    \n",
    "    gradients = {\"dw\": dw,\n",
    "             \"db\": db}\n",
    "    \n",
    "    return gradients, cost"
   ]
  },
  {
   "cell_type": "markdown",
   "id": "cb98d636",
   "metadata": {},
   "source": [
    "Update $\\boldsymbol{w}$ and $b$ by letting $ \\boldsymbol{w} = \\boldsymbol{w} - \\alpha \\text{ } \\frac{\\partial C}{\\partial \\boldsymbol{w}}$, $ b = b - \\alpha \\text{ } \\frac{\\partial C}{\\partial b}$. We repeat updating for $t$ times."
   ]
  },
  {
   "cell_type": "code",
   "execution_count": 19,
   "id": "2a5ff3da",
   "metadata": {},
   "outputs": [],
   "source": [
    "def update(w, b, X, Y, num_iterations=10000, learning_rate=0.001):\n",
    "    \n",
    "    import copy\n",
    "    \n",
    "    w = copy.deepcopy(w)\n",
    "    b = copy.deepcopy(b)\n",
    "    \n",
    "    costs = []\n",
    "    \n",
    "    for i in range(num_iterations):\n",
    "        \n",
    "        gradients, cost = propagate(w, b, X, Y)\n",
    "        \n",
    "        dw = gradients[\"dw\"]\n",
    "        db = gradients[\"db\"]\n",
    "        \n",
    "        w -= dw*learning_rate\n",
    "        b -= db*learning_rate\n",
    "        \n",
    "\n",
    "        costs.append(cost)\n",
    "\n",
    "    \n",
    "    parameters = {\"w\": w,\n",
    "              \"b\": b}\n",
    "    \n",
    "    gradients = {\"dw\": dw,\n",
    "             \"db\": db}\n",
    "    \n",
    "    return parameters, gradients, costs"
   ]
  },
  {
   "cell_type": "markdown",
   "id": "bc80d55c",
   "metadata": {},
   "source": [
    "Once we have our $w$ and $b$, we can predict with given $X$"
   ]
  },
  {
   "cell_type": "code",
   "execution_count": 20,
   "id": "dfba5bf1",
   "metadata": {},
   "outputs": [],
   "source": [
    "def predict(w, b, X):\n",
    "    \n",
    "    m = X.shape[1]\n",
    "    Y_prediction = np.zeros((1, m))\n",
    "    w = w.reshape(X.shape[0], 1)\n",
    "    # Calculate \n",
    "    A = sigmoid(np.dot(w.T,X)+b)\n",
    "    \n",
    "    for i in range(A.shape[1]):\n",
    "    \n",
    "        if A[0, i] > 0.5:\n",
    "            Y_prediction[0,i] = 1\n",
    "        else:\n",
    "            Y_prediction[0,i] = 0\n",
    "    \n",
    "    return Y_prediction"
   ]
  },
  {
   "cell_type": "markdown",
   "id": "397da04b",
   "metadata": {},
   "source": [
    "Combine everything together"
   ]
  },
  {
   "cell_type": "code",
   "execution_count": 21,
   "id": "80961a6b",
   "metadata": {},
   "outputs": [],
   "source": [
    "def perceptron(X_train, Y_train, X_test, Y_test, num_iterations=2000, learning_rate=0.5, print_result=False):\n",
    "   \n",
    "    m_train = X_train.shape[0]\n",
    "    m_test = X_test.shape[0]\n",
    "    num_px = X_train.shape[1]\n",
    "    w, b = initialize_w_b(m_train)\n",
    "    parameters, gradients, costs = update(w, b, X_train, Y_train,num_iterations, learning_rate)\n",
    "    w = parameters[\"w\"]\n",
    "    b = parameters[\"b\"]\n",
    "    Y_prediction_train = predict(w, b, X_train)\n",
    "    Y_prediction_test = predict(w, b, X_test)\n",
    "    train_accuracy = 100 - np.mean(np.abs(Y_prediction_train - Y_train)) * 100\n",
    "    test_accuracy = 100 - np.mean(np.abs(Y_prediction_test - Y_test)) * 100\n",
    "    \n",
    "    \n",
    "    # Print results\n",
    "    from sklearn import metrics\n",
    "    precision = metrics.precision_score(np.squeeze(Y_test).T, np.squeeze(Y_prediction_test).T)\n",
    "    recall = metrics.recall_score(np.squeeze(Y_test).T, np.squeeze(Y_prediction_test).T)\n",
    "    f1 = metrics.f1_score(np.squeeze(Y_test).T, np.squeeze(Y_prediction_test).T)\n",
    "    if print_result:\n",
    "        print(\"train accuracy: \" + str(train_accuracy) + \" %\")\n",
    "        print(\"test accuracy: \" + str(test_accuracy) + \" %\")\n",
    "        print(\"Precision: \" + str(precision))\n",
    "        print(\"Recall: \" + str(recall))\n",
    "        print(\"f1: \" + str(f1))\n",
    "\n",
    "    \n",
    "    saved_model = {\"costs\": costs,\n",
    "         \"Y_prediction_test\": Y_prediction_test, \n",
    "         \"Y_prediction_train\" : Y_prediction_train, \n",
    "         \"w\" : w, \n",
    "         \"b\" : b,\n",
    "         \"learning_rate\" : learning_rate,\n",
    "         \"num_iterations\": num_iterations}\n",
    "    \n",
    "    return saved_model"
   ]
  },
  {
   "cell_type": "code",
   "execution_count": 49,
   "id": "32f06a30",
   "metadata": {},
   "outputs": [
    {
     "data": {
      "image/png": "[encoded data removed]",
      "text/plain": [
       "<Figure size 432x288 with 1 Axes>"
      ]
     },
     "metadata": {
      "needs_background": "light"
     },
     "output_type": "display_data"
    }
   ],
   "source": [
    "learning_rates = [0.01, 0.001, 0.0001]\n",
    "models = {}\n",
    "\n",
    "for alpha in learning_rates:\n",
    "    alpha_str = \"alpha = \"+ str(alpha)\n",
    "    models[str(alpha_str)] = perceptron(X_train, y_train, X_test, y_test, num_iterations=30000, learning_rate=alpha, print_result=False)\n",
    "\n",
    "for alpha in learning_rates:\n",
    "    alpha_str = \"alpha = \"+ str(alpha)\n",
    "    plt.plot(np.squeeze(models[str(alpha_str)][\"costs\"]), label=alpha_str)\n",
    "\n",
    "plt.ylabel('Cost')\n",
    "plt.xlabel('Number of iterations')\n",
    "\n",
    "legend = plt.legend(loc='upper center', shadow=True)\n",
    "frame = legend.get_frame()\n",
    "frame.set_facecolor('0.80')\n",
    "\n",
    "plt.savefig(fname = 'alpha_iterations.png',bbox_inches='tight',dpi=300)\n",
    "plt.show()"
   ]
  },
  {
   "cell_type": "markdown",
   "id": "2a78d96b",
   "metadata": {},
   "source": [
    "We will use learning rate = 0.001 and number of iteration = 30000 for training. "
   ]
  },
  {
   "cell_type": "code",
   "execution_count": 46,
   "id": "fb79fd97",
   "metadata": {},
   "outputs": [
    {
     "name": "stdout",
     "output_type": "stream",
     "text": [
      "train accuracy: 77.6536312849162 %\n",
      "test accuracy: 72.72727272727273 %\n",
      "Precision: 0.7894736842105263\n",
      "Recall: 0.7947019867549668\n",
      "f1: 0.7920792079207921\n"
     ]
    }
   ],
   "source": [
    "perceptron_model = perceptron(X_train, y_train, X_test, y_test, num_iterations=30000, learning_rate=0.001, print_result=True)"
   ]
  },
  {
   "cell_type": "code",
   "execution_count": 23,
   "id": "162441c4",
   "metadata": {},
   "outputs": [
    {
     "data": {
      "text/plain": [
       "array([[-0.19064971],\n",
       "       [-1.07690414],\n",
       "       [ 0.15498031],\n",
       "       [ 0.03876077],\n",
       "       [ 0.06819413],\n",
       "       [-0.77058713],\n",
       "       [-0.15294576],\n",
       "       [-0.40121263]])"
      ]
     },
     "execution_count": 23,
     "metadata": {},
     "output_type": "execute_result"
    }
   ],
   "source": [
    "perceptron_model[\"w\"]"
   ]
  },
  {
   "cell_type": "code",
   "execution_count": 24,
   "id": "064e5fa6",
   "metadata": {},
   "outputs": [
    {
     "data": {
      "text/plain": [
       "0.844957775366152"
      ]
     },
     "execution_count": 24,
     "metadata": {},
     "output_type": "execute_result"
    }
   ],
   "source": [
    "perceptron_model[\"b\"]"
   ]
  },
  {
   "cell_type": "markdown",
   "id": "cf414ff9",
   "metadata": {},
   "source": [
    "Use KNN from sklearn to train"
   ]
  },
  {
   "cell_type": "code",
   "execution_count": 29,
   "id": "8a4a9165",
   "metadata": {},
   "outputs": [
    {
     "data": {
      "text/html": [
       "<style>#sk-container-id-2 {color: black;background-color: white;}#sk-container-id-2 pre{padding: 0;}#sk-container-id-2 div.sk-toggleable {background-color: white;}#sk-container-id-2 label.sk-toggleable__label {cursor: pointer;display: block;width: 100%;margin-bottom: 0;padding: 0.3em;box-sizing: border-box;text-align: center;}#sk-container-id-2 label.sk-toggleable__label-arrow:before {content: \"▸\";float: left;margin-right: 0.25em;color: #696969;}#sk-container-id-2 label.sk-toggleable__label-arrow:hover:before {color: black;}#sk-container-id-2 div.sk-estimator:hover label.sk-toggleable__label-arrow:before {color: black;}#sk-container-id-2 div.sk-toggleable__content {max-height: 0;max-width: 0;overflow: hidden;text-align: left;background-color: #f0f8ff;}#sk-container-id-2 div.sk-toggleable__content pre {margin: 0.2em;color: black;border-radius: 0.25em;background-color: #f0f8ff;}#sk-container-id-2 input.sk-toggleable__control:checked~div.sk-toggleable__content {max-height: 200px;max-width: 100%;overflow: auto;}#sk-container-id-2 input.sk-toggleable__control:checked~label.sk-toggleable__label-arrow:before {content: \"▾\";}#sk-container-id-2 div.sk-estimator input.sk-toggleable__control:checked~label.sk-toggleable__label {background-color: #d4ebff;}#sk-container-id-2 div.sk-label input.sk-toggleable__control:checked~label.sk-toggleable__label {background-color: #d4ebff;}#sk-container-id-2 input.sk-hidden--visually {border: 0;clip: rect(1px 1px 1px 1px);clip: rect(1px, 1px, 1px, 1px);height: 1px;margin: -1px;overflow: hidden;padding: 0;position: absolute;width: 1px;}#sk-container-id-2 div.sk-estimator {font-family: monospace;background-color: #f0f8ff;border: 1px dotted black;border-radius: 0.25em;box-sizing: border-box;margin-bottom: 0.5em;}#sk-container-id-2 div.sk-estimator:hover {background-color: #d4ebff;}#sk-container-id-2 div.sk-parallel-item::after {content: \"\";width: 100%;border-bottom: 1px solid gray;flex-grow: 1;}#sk-container-id-2 div.sk-label:hover label.sk-toggleable__label {background-color: #d4ebff;}#sk-container-id-2 div.sk-serial::before {content: \"\";position: absolute;border-left: 1px solid gray;box-sizing: border-box;top: 0;bottom: 0;left: 50%;z-index: 0;}#sk-container-id-2 div.sk-serial {display: flex;flex-direction: column;align-items: center;background-color: white;padding-right: 0.2em;padding-left: 0.2em;position: relative;}#sk-container-id-2 div.sk-item {position: relative;z-index: 1;}#sk-container-id-2 div.sk-parallel {display: flex;align-items: stretch;justify-content: center;background-color: white;position: relative;}#sk-container-id-2 div.sk-item::before, #sk-container-id-2 div.sk-parallel-item::before {content: \"\";position: absolute;border-left: 1px solid gray;box-sizing: border-box;top: 0;bottom: 0;left: 50%;z-index: -1;}#sk-container-id-2 div.sk-parallel-item {display: flex;flex-direction: column;z-index: 1;position: relative;background-color: white;}#sk-container-id-2 div.sk-parallel-item:first-child::after {align-self: flex-end;width: 50%;}#sk-container-id-2 div.sk-parallel-item:last-child::after {align-self: flex-start;width: 50%;}#sk-container-id-2 div.sk-parallel-item:only-child::after {width: 0;}#sk-container-id-2 div.sk-dashed-wrapped {border: 1px dashed gray;margin: 0 0.4em 0.5em 0.4em;box-sizing: border-box;padding-bottom: 0.4em;background-color: white;}#sk-container-id-2 div.sk-label label {font-family: monospace;font-weight: bold;display: inline-block;line-height: 1.2em;}#sk-container-id-2 div.sk-label-container {text-align: center;}#sk-container-id-2 div.sk-container {/* jupyter's `normalize.less` sets `[hidden] { display: none; }` but bootstrap.min.css set `[hidden] { display: none !important; }` so we also need the `!important` here to be able to override the default hidden behavior on the sphinx rendered scikit-learn.org. See: https://github.com/scikit-learn/scikit-learn/issues/21755 */display: inline-block !important;position: relative;}#sk-container-id-2 div.sk-text-repr-fallback {display: none;}</style><div id=\"sk-container-id-2\" class=\"sk-top-container\"><div class=\"sk-text-repr-fallback\"><pre>KNeighborsClassifier()</pre><b>In a Jupyter environment, please rerun this cell to show the HTML representation or trust the notebook. <br />On GitHub, the HTML representation is unable to render, please try loading this page with nbviewer.org.</b></div><div class=\"sk-container\" hidden><div class=\"sk-item\"><div class=\"sk-estimator sk-toggleable\"><input class=\"sk-toggleable__control sk-hidden--visually\" id=\"sk-estimator-id-2\" type=\"checkbox\" checked><label for=\"sk-estimator-id-2\" class=\"sk-toggleable__label sk-toggleable__label-arrow\">KNeighborsClassifier</label><div class=\"sk-toggleable__content\"><pre>KNeighborsClassifier()</pre></div></div></div></div></div>"
      ],
      "text/plain": [
       "KNeighborsClassifier()"
      ]
     },
     "execution_count": 29,
     "metadata": {},
     "output_type": "execute_result"
    }
   ],
   "source": [
    "from sklearn.neighbors import KNeighborsClassifier\n",
    "neigh = KNeighborsClassifier()\n",
    "neigh.fit(X_train.T, np.squeeze(y_train.T))"
   ]
  },
  {
   "cell_type": "code",
   "execution_count": 30,
   "id": "e03ba7e2",
   "metadata": {},
   "outputs": [
    {
     "data": {
      "text/plain": [
       "0.7012987012987013"
      ]
     },
     "execution_count": 30,
     "metadata": {},
     "output_type": "execute_result"
    }
   ],
   "source": [
    "neigh.score(X_test.T,np.squeeze(y_test.T))"
   ]
  },
  {
   "cell_type": "markdown",
   "id": "105a1720",
   "metadata": {},
   "source": [
    "Our perceptron performs better."
   ]
  }
 ],
 "metadata": {
  "kernelspec": {
   "display_name": "Python 3 (ipykernel)",
   "language": "python",
   "name": "python3"
  },
  "language_info": {
   "codemirror_mode": {
    "name": "ipython",
    "version": 3
   },
   "file_extension": ".py",
   "mimetype": "text/x-python",
   "name": "python",
   "nbconvert_exporter": "python",
   "pygments_lexer": "ipython3",
   "version": "3.9.7"
  }
 },
 "nbformat": 4,
 "nbformat_minor": 5
}
